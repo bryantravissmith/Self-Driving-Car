{
 "cells": [
  {
   "cell_type": "markdown",
   "metadata": {},
   "source": [
    "# Report\n",
    "\n",
    "This a report about PID controls and the works for this project.  For this project we wrote a c++ PID controller that drives a car around a track by responding to the cross-track error (CTE), a measure of distance from a plan path.  In it we have the following equation for the steering angle:\n",
    "\n",
    "$$ \\psi_i = -K_p \\ CTE_i - K_d \\ \\left(CTE_i - CTE_{i-1}\\right) - K_i \\ \\sum_{j=0}^i CTE_j $$\n",
    "\n",
    "For this project we have a bicycle model:\n"
   ]
  },
  {
   "cell_type": "code",
   "execution_count": null,
   "metadata": {
    "collapsed": true
   },
   "outputs": [],
   "source": [
    "import math\n",
    "class Car:\n",
    "    \n",
    "    def __init__(self, x, y, angle, kp, kd, ki):\n",
    "        self.x = x\n",
    "        self.y = y\n",
    "        self.angle = angle\n",
    "        self.psi = 0\n",
    "        self.x_history = [x]\n",
    "        self.y_history = [y]\n",
    "        self.kp = kp\n",
    "        self.ki = ki\n",
    "        self.kd = kd\n",
    "        self.cte = 0\n",
    "        self.last_cti = 0\n",
    "        self.total_cte = 0\n",
    "        \n",
    "    def steer(self, CTE):\n",
    "        self.last_cte = self.cte\n",
    "        self.total_cte += CTE\n",
    "        self.cte = CTE\n",
    "        angle = -self.kp * self.cte - self.kd * (self.cte - self.last_cte) - self.ki * self.total_cte\n",
    "        self.psi = angle - self.angle\n",
    "        self.angle = angle\n",
    "        \n",
    "    def move(self, v):\n",
    "        if self.psi == 0:\n",
    "            \n",
    "        else:\n",
    "            new_x = self.x + v / self.psi * (sin(self.angle + self.psi) - sin(self.angle))\n",
    "            new_x = self.x + v / self.psi * (cos(self.angle) - cos(self.angle + self.psi))\n",
    "        "
   ]
  }
 ],
 "metadata": {
  "kernelspec": {
   "display_name": "Self-Driving [py3.5]",
   "language": "python",
   "name": "self-driving"
  },
  "language_info": {
   "codemirror_mode": {
    "name": "ipython",
    "version": 3
   },
   "file_extension": ".py",
   "mimetype": "text/x-python",
   "name": "python",
   "nbconvert_exporter": "python",
   "pygments_lexer": "ipython3",
   "version": "3.5.4"
  }
 },
 "nbformat": 4,
 "nbformat_minor": 2
}
