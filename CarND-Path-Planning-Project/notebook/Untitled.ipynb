{
 "cells": [
  {
   "cell_type": "code",
   "execution_count": 18,
   "metadata": {},
   "outputs": [],
   "source": [
    "import numpy as np\n",
    "import matplotlib.pyplot as plt\n",
    "\n",
    "def JMT(start, end, T):\n",
    "    \"\"\"\n",
    "    Calculates Jerk Minimizing Trajectory for start, end and T.\n",
    "    \"\"\"\n",
    "    a_0, a_1, a_2 = start[0], start[1], start[2] / 2.0\n",
    "    c_0 = a_0 + a_1 * T + a_2 * T**2\n",
    "    c_1 = a_1 + 2 * a_2 * T\n",
    "    c_2 = 2 * a_2\n",
    "\n",
    "    A = np.array([\n",
    "            [T**3,   T**4,    T**5],\n",
    "            [3*T**2, 4*T**3,  5*T**4],\n",
    "            [6*T,   12*T**2, 20*T**3],\n",
    "        ])\n",
    "    B = np.array([\n",
    "            end[0] - c_0,\n",
    "            end[1] - c_1,\n",
    "            end[2] - c_2\n",
    "        ])\n",
    "    a_3_4_5 = np.linalg.solve(A, B)\n",
    "    alphas = np.concatenate([np.array([a_0, a_1, a_2]), a_3_4_5])\n",
    "    return alphas\n",
    "\n",
    "\n",
    "def create_function(coefs):\n",
    "    def x(t):\n",
    "        value = 0;\n",
    "        for i in range(len(coefs)):\n",
    "            value += coefs[i]*t**i\n",
    "        return value\n",
    "    \n",
    "    def v(t):\n",
    "        value = 0;\n",
    "        for i in range(1, len(coefs)):\n",
    "            value += i*coefs[i]*t**(i-1)\n",
    "        return value\n",
    "    \n",
    "    def a(t):\n",
    "        value = 0;\n",
    "        for i in range(2, len(coefs)):\n",
    "            value += i*(i-1)*coefs[i]*t**(i-2)\n",
    "        return value\n",
    "    \n",
    "    def j(t):\n",
    "        value = 0;\n",
    "        for i in range(1, len(coefs)):\n",
    "            value += i*(i-1)*(i-2)*coefs[i]*t**(i-3)\n",
    "        return value**2\n",
    "    return x, v, a, j\n",
    "\n",
    "\n",
    "coefs = JMT(start, end, 10)\n",
    "xt, vt, at, jt = create_function(coefs)"
   ]
  },
  {
   "cell_type": "code",
   "execution_count": 27,
   "metadata": {},
   "outputs": [
    {
     "name": "stderr",
     "output_type": "stream",
     "text": [
      "/Users/bryantravissmith/anaconda3/envs/self-driving/lib/python3.5/site-packages/ipykernel_launcher.py:53: RuntimeWarning: divide by zero encountered in double_scalars\n",
      "/Users/bryantravissmith/anaconda3/envs/self-driving/lib/python3.5/site-packages/ipykernel_launcher.py:53: RuntimeWarning: invalid value encountered in double_scalars\n"
     ]
    },
    {
     "data": {
      "image/png": "[encoded data removed]",
      "text/plain": [
       "<Figure size 432x288 with 4 Axes>"
      ]
     },
     "metadata": {},
     "output_type": "display_data"
    }
   ],
   "source": [
    "t = np.linspace(0,10, 500)\n",
    "\n",
    "start = np.array([0, 20, 0])\n",
    "end = np.array([20*10, 20, 0])\n",
    "\n",
    "coefs = JMT(start, end, 10)\n",
    "xt, vt, at, jt = create_function(coefs)\n",
    "\n",
    "for j, f in enumerate([xt, vt, at, jt]):\n",
    "    ax = plt.subplot(2,2,j+1)\n",
    "    plt.plot(t, np.array([f(i) for i in t]))"
   ]
  },
  {
   "cell_type": "code",
   "execution_count": 21,
   "metadata": {},
   "outputs": [
    {
     "data": {
      "text/plain": [
       "500.0"
      ]
     },
     "execution_count": 21,
     "metadata": {},
     "output_type": "execute_result"
    }
   ],
   "source": [
    "10.0 / .02"
   ]
  },
  {
   "cell_type": "code",
   "execution_count": 29,
   "metadata": {},
   "outputs": [
    {
     "data": {
      "text/plain": [
       "(0.00025713106559999984,\n",
       " 0.012822148799999997,\n",
       " 0.42511391999999987,\n",
       " 48.593391042815973)"
      ]
     },
     "execution_count": 29,
     "metadata": {},
     "output_type": "execute_result"
    }
   ],
   "source": [
    "start = np.array([0, 0, 0])\n",
    "end = np.array([20*10, 20, 0])\n",
    "t = np.linspace(0,10, 500)\n",
    "\n",
    "coefs = JMT(start, end, 10)\n",
    "xt, vt, at, jt = create_function(coefs)\n",
    "\n"
   ]
  },
  {
   "cell_type": "code",
   "execution_count": 39,
   "metadata": {},
   "outputs": [
    {
     "data": {
      "text/plain": [
       "(0, 220)"
      ]
     },
     "execution_count": 39,
     "metadata": {},
     "output_type": "execute_result"
    },
    {
     "data": {
      "image/png": "[encoded data removed]",
      "text/plain": [
       "<Figure size 432x288 with 1 Axes>"
      ]
     },
     "metadata": {},
     "output_type": "display_data"
    }
   ],
   "source": [
    "start = np.array([0, 0, 0])\n",
    "end = np.array([20*10, 20, 0])\n",
    "\n",
    "coefs = JMT(start, end, 10)\n",
    "xt, vt, at, jt = create_function(coefs)\n",
    "\n",
    "plt.plot(t, [xt(time) for time in t])\n",
    "\n",
    "0.06*100\n",
    "for i in range(150):\n",
    "    start = np.array([xt(0.06), vt(0.06), at(0.06)])\n",
    "    coefs = JMT(start, end, 10-i*0.06)\n",
    "    xt, vt, at, jt = create_function(coefs)\n",
    "    plt.plot(t+0.06*i, [xt(time) for time in t])\n",
    "\n",
    "plt.xlim(0,10)\n",
    "plt.ylim(0,220)\n",
    "    "
   ]
  },
  {
   "cell_type": "code",
   "execution_count": 40,
   "metadata": {},
   "outputs": [],
   "source": [
    "xt, vt, at, jt = create_function(np.array([124.834, 0, 0, 0.2, -0.01, 0]))\n"
   ]
  },
  {
   "cell_type": "code",
   "execution_count": 42,
   "metadata": {},
   "outputs": [
    {
     "data": {
      "text/plain": [
       "[<matplotlib.lines.Line2D at 0x11df91ef0>]"
      ]
     },
     "execution_count": 42,
     "metadata": {},
     "output_type": "execute_result"
    },
    {
     "data": {
      "image/png": "[encoded data removed]",
      "text/plain": [
       "<Figure size 432x288 with 1 Axes>"
      ]
     },
     "metadata": {},
     "output_type": "display_data"
    }
   ],
   "source": [
    "plt.plot(t,[xt(time) for time in t])"
   ]
  },
  {
   "cell_type": "code",
   "execution_count": null,
   "metadata": {},
   "outputs": [],
   "source": []
  }
 ],
 "metadata": {
  "kernelspec": {
   "display_name": "Self-Driving [py3.5]",
   "language": "python",
   "name": "self-driving"
  },
  "language_info": {
   "codemirror_mode": {
    "name": "ipython",
    "version": 3
   },
   "file_extension": ".py",
   "mimetype": "text/x-python",
   "name": "python",
   "nbconvert_exporter": "python",
   "pygments_lexer": "ipython3",
   "version": "3.5.5"
  }
 },
 "nbformat": 4,
 "nbformat_minor": 2
}
